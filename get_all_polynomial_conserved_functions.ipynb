{
 "cells": [
  {
   "attachments": {},
   "cell_type": "markdown",
   "id": "e556c30e",
   "metadata": {},
   "source": [
    "# Resolution of the linear system $\\langle \\nabla P(x), v_i(x) \\rangle = 0$ where the $v_i$ are our $d$ polynomial vector fields (that means that all the coordinates of $v_i$ are polynomials with indeterminates $x_1, \\cdots, x_D$)."
   ]
  },
  {
   "cell_type": "code",
   "execution_count": null,
   "id": "f6235650",
   "metadata": {},
   "outputs": [],
   "source": [
    "run create_generic_polynomial.ipynb"
   ]
  },
  {
   "cell_type": "code",
   "execution_count": null,
   "id": "432dab6e",
   "metadata": {},
   "outputs": [],
   "source": [
    "import numpy as np"
   ]
  },
  {
   "attachments": {},
   "cell_type": "markdown",
   "id": "9f729ae9",
   "metadata": {},
   "source": [
    "get_coef_equations(P, Vector_fields):  \n",
    "\n",
    "Parameters: \n",
    "- P: polynomial with $D$ indeterminates $x_1, \\cdots, x_D$ and with indeterminate coefficients $a_1, \\cdots, a_m$, \n",
    "- Vector_fields: np.array of size (D, d) whose columns correspond to the vector fields (e.g Vector_fields = $(\\nabla \\phi_1, \\cdots, \\nabla \\phi_d)$). Each element of the array is a polynomial with $D$ indeterminates $x_1, \\cdots, x_D$.\n",
    "\n",
    "This function returns the list of the linear equations in the coefficients $a_i$, that the $a_i$ must satisfy if $\\langle \\nabla P(x), v_i (x)\\rangle = 0$ for $ i = 1, \\cdots , d$.\n",
    "\n",
    "To do this, we calculate the system $\\{\\langle \\nabla P(x), v_i (x) \\rangle\\}_{i}$ which is made up of $d$ linear equations in the coefs $a_i$ and polynomial in the $x_i$. Since we are looking for $P$ such that $\\langle \\nabla P(x), v_i (x)\\rangle = 0$, we know that the coefficients (which are linear equations in the $a_i$) of the $d$ polynomials obtained are zero."
   ]
  },
  {
   "cell_type": "code",
   "execution_count": null,
   "id": "333d71b0",
   "metadata": {},
   "outputs": [],
   "source": [
    "def get_coef_equations(P, Vector_fields): \n",
    "    #  calculate the system  <gradP, Vector_fields> (d linear equations in the coef a_i, polynomial in the x_i)\n",
    "    polynomial_system = P.gradient() @ Vector_fields \n",
    "    \n",
    "    # calculate the coefficients of these d polynomials (linear in the a_i)\n",
    "    list_coef_equations = []\n",
    "    for i in range(len(polynomial_system)):\n",
    "        list_coef_equations.extend(polynomial_system[i].coefficients())\n",
    "        \n",
    "    return list_coef_equations"
   ]
  },
  {
   "cell_type": "code",
   "execution_count": null,
   "id": "3c0fe1ba",
   "metadata": {},
   "outputs": [],
   "source": [
    "def build_matrix(k, Vector_fields, general = False):\n",
    "    D = np.shape(Vector_fields)[0]\n",
    "    if general == False:\n",
    "        R, Ring, coef, variables_list, coefficients_list = ring(k, D)\n",
    "        P = create_generic_homogeneous_polynomial(k, D)\n",
    "    if general == True:\n",
    "        R, Ring, coef, variables_list, coefficients_list = ring(k, D, general=True)\n",
    "        # caution: coefficients_list is a list of lists in that case\n",
    "        P = create_generic_polynomial(k, D)\n",
    "\n",
    "    eq = get_coef_equations(P, Vector_fields)\n",
    "    N, M = len(eq), len(coef)\n",
    "    coefficient_matrix = np.empty((N, M))\n",
    "    for i in range(N):\n",
    "        degree_list = list(eq[i].degrees())\n",
    "        non_zero_coefficients = list(eq[i].coefficients())\n",
    "        u = 0\n",
    "        for j in range(M):\n",
    "            if degree_list[j] != 0:\n",
    "                degree_list[j] = non_zero_coefficients[u]\n",
    "                u += 1\n",
    "        coefficient_matrix[i, :] = degree_list\n",
    "    return M, coefficient_matrix.T, coef, coefficients_list, variables_list"
   ]
  },
  {
   "cell_type": "code",
   "execution_count": 5,
   "id": "ce3c2c7e",
   "metadata": {},
   "outputs": [],
   "source": [
    "def solve(k, Vector_fields, get_list_of_all_conserved_polynomial= False,  general = False):\n",
    "\n",
    "    M, L, coef, coefficients_list, indeterminates_list = build_matrix(k,Vector_fields, general)\n",
    "    R = PolynomialRing(RR, indeterminates_list)\n",
    "    Mat = matrix(RR, L)\n",
    "    ker = Mat.kernel()\n",
    "    ker_basis = ker.basis()\n",
    "    \n",
    "    # next we reconstruct all polynomials associated with each vector in the kernel basis\n",
    "    kernel_dim = len(ker_basis)\n",
    "    P = []\n",
    "    grad_P = []\n",
    "    if kernel_dim == 0:\n",
    "        return 0\n",
    "    if general == False:\n",
    "        for i in range(kernel_dim):\n",
    "            Q = 0\n",
    "            for j in range(len(coefficients_list)):\n",
    "                Q += ker_basis[i][j]*R.monomial(*coefficients_list[j])\n",
    "            P.append(Q)\n",
    "            grad_P.append(Q.gradient())\n",
    "        grad_P = np.array(grad_P).T\n",
    "    if general == True:\n",
    "        for i in range(kernel_dim):\n",
    "            Q = 0\n",
    "            m = 0\n",
    "            for j in range(len(coefficients_list)):\n",
    "                for k in range(len(coefficients_list[j])):\n",
    "                    Q += ker_basis[i][k + m]*R.monomial(*coefficients_list[j][k])\n",
    "                m += len(coefficients_list[j])\n",
    "            P.append(Q)\n",
    "            grad_P.append(Q.gradient())\n",
    "        grad_P = np.array(grad_P).T\n",
    "\n",
    "    # then we evaluate at a point and compute the rank\n",
    "    u, v = np.shape(grad_P)\n",
    "    evaluation = np.empty((u, v))\n",
    "    D = np.shape(Vector_fields)[0]\n",
    "    value = np.random.rand((D))\n",
    "    dic = {}\n",
    "    for k in range(D):\n",
    "        dic[f\"x{k+1}\"] = value[k]\n",
    "    for i in range(u):\n",
    "        for j in range(v):\n",
    "            evaluation[i, j] = grad_P[i][j](**dic)\n",
    "    rank = np.linalg.matrix_rank(evaluation)\n",
    "    \n",
    "    #print(\"kernel dimension\", M - Mat.rank())\n",
    "    #print(\"number of independent polynomial conserved functions\", rank)\n",
    "    \n",
    "    if get_list_of_all_conserved_polynomial == False:\n",
    "        return rank\n",
    "    else:\n",
    "        return P, rank"
   ]
  }
 ],
 "metadata": {
  "kernelspec": {
   "display_name": "SageMath 9.7",
   "language": "sage",
   "name": "sagemath-9.7"
  },
  "language_info": {
   "codemirror_mode": {
    "name": "ipython",
    "version": 3
   },
   "file_extension": ".py",
   "mimetype": "text/x-python",
   "name": "python",
   "nbconvert_exporter": "python",
   "pygments_lexer": "ipython3",
   "version": "3.10.5"
  }
 },
 "nbformat": 4,
 "nbformat_minor": 5
}
