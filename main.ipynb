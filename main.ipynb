{
 "cells": [
  {
   "attachments": {},
   "cell_type": "markdown",
   "id": "c2d11b07",
   "metadata": {},
   "source": [
    "# Imports"
   ]
  },
  {
   "cell_type": "code",
   "execution_count": 4,
   "id": "d2a7c413",
   "metadata": {},
   "outputs": [],
   "source": [
    "import os\n",
    "import numpy as np\n",
    "os.environ[\"SAGE_NUM_THREADS\"] = '64' #set to number of cores"
   ]
  },
  {
   "cell_type": "code",
   "execution_count": 5,
   "id": "4a5d4cf8",
   "metadata": {},
   "outputs": [],
   "source": [
    "run create_generic_polynomial.ipynb"
   ]
  },
  {
   "attachments": {},
   "cell_type": "markdown",
   "id": "79afc3a9",
   "metadata": {},
   "source": [
    "to create a generic polynomial with 𝐷 indeterminates with generic coefs"
   ]
  },
  {
   "cell_type": "code",
   "execution_count": 6,
   "id": "7e73d532",
   "metadata": {},
   "outputs": [],
   "source": [
    "run get_all_polynomial_conserved_functions.ipynb "
   ]
  },
  {
   "attachments": {},
   "cell_type": "markdown",
   "id": "99910e08",
   "metadata": {},
   "source": [
    "to get all polynomial conservation laws for given vector fields"
   ]
  },
  {
   "cell_type": "code",
   "execution_count": 7,
   "id": "693366b8",
   "metadata": {},
   "outputs": [],
   "source": [
    "run get_specific_vector_fields_and_known_conserved_functions.ipynb"
   ]
  },
  {
   "attachments": {},
   "cell_type": "markdown",
   "id": "9139a112",
   "metadata": {},
   "source": [
    "to get \n",
    "- the vector fields asociated to linear and ReLU neural networs and \n",
    "- the number of independent conserved functions already known in these cases"
   ]
  },
  {
   "cell_type": "code",
   "execution_count": 8,
   "id": "836a85ec",
   "metadata": {},
   "outputs": [],
   "source": [
    "run computation_dimension_trace_Lie_algebra.ipynb # to get the dim of Lie(V)(x)"
   ]
  },
  {
   "cell_type": "code",
   "execution_count": 9,
   "id": "400393a2",
   "metadata": {},
   "outputs": [
    {
     "data": {
      "text/plain": [
       "64"
      ]
     },
     "execution_count": 9,
     "metadata": {},
     "output_type": "execute_result"
    }
   ],
   "source": [
    "sage.parallel.ncpus.ncpus()"
   ]
  },
  {
   "cell_type": "code",
   "execution_count": 10,
   "id": "253a6e26",
   "metadata": {},
   "outputs": [],
   "source": [
    "# increase the maximum memory usage\n",
    "# warning: this can consume a lot of RAM\n",
    "maxima._eval_line(\":lisp (ext:set-limit 'ext:heap-size 100000000000)\",\n",
    "wait_for_prompt=False)"
   ]
  },
  {
   "attachments": {},
   "cell_type": "markdown",
   "id": "f5a9338e",
   "metadata": {},
   "source": [
    "# Test on specific vector fields $v_i$ (e.g. $v_i:= \\nabla \\phi_i$).\n",
    "**In this notebook we test our results on different vector fields ($(v_i)_{i = 1, \\cdots, d}$), from simple examples to more sophisticated ones. For ReLU and linear neural networks, the vector fields ($(v_i)_{i = 1, \\cdots, d}$) associated to the model $\\phi$ (then $v_i = \\nabla \\phi_i$) are build in the notebook run get_specific_vector_fields_and_known_conserved_functions.ipynb, as well as the number $N$ of independent conservation laws already known by the literature. We systemically compute $\\mathrm{dim} \\mathrm{Lie} V_\\phi (x)$ (via the notebook computation_dimension_trace_Lie_algebra.ipynb) and we check if $D- \\mathrm{dim} \\mathrm{Lie} V_\\phi (x) = N$: if so, we know thanks to Corollary 3.4 that there are no more conserved functions. Finally we check that all polynomial conservation laws we get (via the notebook get_all_polynomial_conserved_functions.ipynb) correspond exactly to the known conservation laws, for ReLU and linear cases.**\n",
    "\n",
    "### Table of contents: \n",
    "- **Part A: Test when $(v_i)_i$ are random polynomial vector fields**  \n",
    "- **Part B: Test on the simple case: $\\phi(x) = x_1 \\times \\cdots \\times x_D$**  \n",
    "- **Part C: Test on the $q$-layer linear networks (see Section 4 of our paper)**  \n",
    "- **Part D: Test on the $q$-layer ReLU networks (with or without bias)** \n",
    "\n"
   ]
  },
  {
   "attachments": {},
   "cell_type": "markdown",
   "id": "b2334f5d",
   "metadata": {},
   "source": [
    "## A. Test on $d$ random polynomial of degree $m$ vector fields."
   ]
  },
  {
   "cell_type": "code",
   "execution_count": 11,
   "id": "0d4babb5",
   "metadata": {},
   "outputs": [],
   "source": [
    "def build_vector_fields(D, d, m):\n",
    "    list_var = [var('x'+str(i+1)) for i in range(D)]\n",
    "    R = PolynomialRing(ZZ, list_var) \n",
    "    return np.array([[R.random_element(degree = m) for _ in range(D)] for _ in range(d)]).T"
   ]
  },
  {
   "cell_type": "code",
   "execution_count": 12,
   "id": "4c35f5a9",
   "metadata": {},
   "outputs": [
    {
     "data": {
      "text/plain": [
       "([1.00000000000000], 0)"
      ]
     },
     "execution_count": 12,
     "metadata": {},
     "output_type": "execute_result"
    }
   ],
   "source": [
    "D = 5\n",
    "random_vector_fields = build_vector_fields(D, 1, 3)\n",
    "solve(0, random_vector_fields, True) # the kernel dimension is 1 but the constant polynomial is not counted because\n",
    "# its gradient is zero so is not a linearly independent vector\n",
    "\n",
    "# the first argument of solve is the degree of conserved poynomial we are looking for"
   ]
  },
  {
   "cell_type": "code",
   "execution_count": 13,
   "id": "20687b71",
   "metadata": {},
   "outputs": [
    {
     "data": {
      "text/plain": [
       "0"
      ]
     },
     "execution_count": 13,
     "metadata": {},
     "output_type": "execute_result"
    }
   ],
   "source": [
    "solve(4, random_vector_fields, True)  # in general, there are no polynomial conserved functions for random polynomial vector fields"
   ]
  },
  {
   "cell_type": "code",
   "execution_count": 14,
   "id": "2ae95266",
   "metadata": {},
   "outputs": [
    {
     "data": {
      "text/plain": [
       "4"
      ]
     },
     "execution_count": 14,
     "metadata": {},
     "output_type": "execute_result"
    }
   ],
   "source": [
    "D - dim_trace_lie_algebra(random_vector_fields, fast=False)  # number of independent conserved laws in that case"
   ]
  },
  {
   "attachments": {},
   "cell_type": "markdown",
   "id": "536c6d55",
   "metadata": {},
   "source": [
    "## B. Test on $\\phi(x) = x_1 \\times \\cdots \\times x_D$ (*i.e.*  $d = 1$ and $v(x)= \\nabla \\phi (x)$)."
   ]
  },
  {
   "cell_type": "code",
   "execution_count": 15,
   "id": "45061cd1",
   "metadata": {},
   "outputs": [],
   "source": [
    "def particular_vf(D):\n",
    "    liste_var = [var('x'+str(i+1)) for i in range(D)]\n",
    "    R = PolynomialRing(ZZ, liste_var) \n",
    "    list_ = [1]*D\n",
    "    Q = R.monomial(*list_)\n",
    "    return np.array(Q.gradient()).reshape(D, 1)"
   ]
  },
  {
   "cell_type": "code",
   "execution_count": 16,
   "id": "c566d37f",
   "metadata": {},
   "outputs": [
    {
     "data": {
      "text/plain": [
       "array([[x2*x3],\n",
       "       [x1*x3],\n",
       "       [x1*x2]], dtype=object)"
      ]
     },
     "execution_count": 16,
     "metadata": {},
     "output_type": "execute_result"
    }
   ],
   "source": [
    "particular_vf(3)"
   ]
  },
  {
   "attachments": {},
   "cell_type": "markdown",
   "id": "55e5e79b",
   "metadata": {},
   "source": [
    "We obtain that there are $D-1$ independent homogeneous polynomial of degree 2 conserved functions (and there are no more conserved functions as $(D-1)+ 1 = D$)."
   ]
  },
  {
   "cell_type": "code",
   "execution_count": 17,
   "id": "811c1b0d",
   "metadata": {},
   "outputs": [
    {
     "data": {
      "text/plain": [
       "([-x1^2 + x3^2, -x1^2 + x2^2], 2)"
      ]
     },
     "execution_count": 17,
     "metadata": {},
     "output_type": "execute_result"
    }
   ],
   "source": [
    "V2 = particular_vf(3)\n",
    "solve(2, V2, True) "
   ]
  },
  {
   "attachments": {},
   "cell_type": "markdown",
   "id": "8fc0f13d",
   "metadata": {},
   "source": [
    "Let's check that the dimension of Lie(V)(x) is equal to 1 !"
   ]
  },
  {
   "cell_type": "code",
   "execution_count": 18,
   "id": "8cac7690",
   "metadata": {},
   "outputs": [
    {
     "data": {
      "text/plain": [
       "1"
      ]
     },
     "execution_count": 18,
     "metadata": {},
     "output_type": "execute_result"
    }
   ],
   "source": [
    "dim_trace_lie_algebra(V2, fast=False)"
   ]
  },
  {
   "attachments": {},
   "cell_type": "markdown",
   "id": "5d18bb67",
   "metadata": {},
   "source": [
    "## C. Test on the case of $q$-layer linear neural networks $\\phi(U_1, \\cdots, U_q) = U_1 \\times \\cdots U_q$ ($v_i:= \\nabla \\phi_i(U_1, \\cdots, U_q)$)."
   ]
  },
  {
   "cell_type": "code",
   "execution_count": 17,
   "id": "bf90be3c",
   "metadata": {},
   "outputs": [],
   "source": [
    "from tqdm import tqdm"
   ]
  },
  {
   "cell_type": "code",
   "execution_count": 23,
   "id": "66fe5d5f",
   "metadata": {},
   "outputs": [
    {
     "name": "stderr",
     "output_type": "stream",
     "text": [
      "100%|███████████████████████████████████████████████████████████████████████████████████████████████████████████████████████████████████████████████████████████████████| 50/50 [34:23<00:00, 41.26s/it]\n"
     ]
    }
   ],
   "source": [
    "np.random.seed(0)\n",
    "for i in tqdm(range(50)):\n",
    "    depth = np.random.randint(2, 5)\n",
    "    list_dim = np.empty(depth + 1, dtype=int)\n",
    "    for j in range(depth + 1):\n",
    "        list_dim[j] = np.random.randint(2, 6)\n",
    "    list_dim = list(list_dim)\n",
    "    n_known_functions = known_conserved_functions_linear(list_dim)\n",
    "    D, vector_fields = vector_fields_for_q_layer_LNN(list_dim)\n",
    "    dim_found = D - dim_trace_lie_algebra(vector_fields, n_known_functions=n_known_functions, verbose=0)\n",
    "    assert dim_found == n_known_functions, \"dim_found = {}, n_known_functions = {}, for list_dim {}\".format(dim_found, n_known_functions, list_dim)\n"
   ]
  },
  {
   "attachments": {},
   "cell_type": "markdown",
   "id": "79fbcfc1",
   "metadata": {},
   "source": [
    "The number of independent conserved functions that are already known matches with $D - \\text{dim} Lie V_{\\phi} (\\theta)$: there is no other conservation law!"
   ]
  },
  {
   "cell_type": "code",
   "execution_count": 19,
   "id": "e417b91b",
   "metadata": {},
   "outputs": [
    {
     "name": "stderr",
     "output_type": "stream",
     "text": [
      "100%|███████████████████████████████████████████████████████████████████████████████████████████████████████████████████████████████████████████████████████████████████| 10/10 [01:31<00:00,  9.16s/it]\n"
     ]
    }
   ],
   "source": [
    "np.random.seed(0)\n",
    "for i in tqdm(range(10)):\n",
    "    depth = np.random.randint(2, 4)\n",
    "    list_dim = np.empty(depth + 1, dtype=int)\n",
    "    for j in range(depth + 1):\n",
    "        list_dim[j] = np.random.randint(2, 5)\n",
    "    list_dim = list(list_dim)\n",
    "    D, vector_fields = vector_fields_for_q_layer_LNN(list_dim)\n",
    "    n_known_functions = known_conserved_functions_linear(list_dim)\n",
    "    assert solve(2, vector_fields) == n_known_functions"
   ]
  },
  {
   "attachments": {},
   "cell_type": "markdown",
   "id": "6b06f774",
   "metadata": {},
   "source": [
    "As expected, we can also find all known conserved functions by looking for polynomial conserved functions of degree 2, using our algorithm presented in Section 2.4 of our paper."
   ]
  },
  {
   "attachments": {},
   "cell_type": "markdown",
   "id": "70064c62",
   "metadata": {},
   "source": [
    "## D. Test on the case of $q$-layer ReLU neural networks."
   ]
  },
  {
   "cell_type": "code",
   "execution_count": 20,
   "id": "41963866",
   "metadata": {},
   "outputs": [
    {
     "name": "stderr",
     "output_type": "stream",
     "text": [
      "100%|████████████████████████████████████████████████████████████████████████████████████████████████████████████████████████████████████████████████████████████████| 50/50 [1:53:11<00:00, 135.84s/it]\n"
     ]
    }
   ],
   "source": [
    "np.random.seed(0)\n",
    "for i in tqdm(range(50)):\n",
    "    depth = np.random.randint(2, 5)\n",
    "    list_dim = np.empty(depth + 1, dtype=int)\n",
    "    for j in range(depth + 1):\n",
    "        list_dim[j] = np.random.randint(2, 10)\n",
    "    list_dim = list(list_dim)\n",
    "    if np.random.random() < 0.5:\n",
    "        bias = True\n",
    "    else:\n",
    "        bias = False\n",
    "    n_known_functions = known_conserved_functions_ReLU(list_dim)\n",
    "    D, vector_fields = vector_fields_ReLU_q_layers(list_dim, bias=bias)\n",
    "    dim_found = D - dim_trace_lie_algebra(vector_fields, n_known_functions=n_known_functions, verbose=0)\n",
    "    assert dim_found == n_known_functions, \"dim_found = {}, n_known_functions = {}, for list_dim {}\".format(dim_found, n_known_functions, list_dim)\n"
   ]
  },
  {
   "attachments": {},
   "cell_type": "markdown",
   "id": "b9d5d0c0",
   "metadata": {},
   "source": [
    "The number of independent conserved functions that are already known matches with $D - \\text{dim} Lie V_{\\phi} (\\theta)$: there is no other conservation law!"
   ]
  },
  {
   "cell_type": "code",
   "execution_count": 21,
   "id": "f227e9f3",
   "metadata": {},
   "outputs": [
    {
     "name": "stderr",
     "output_type": "stream",
     "text": [
      "100%|███████████████████████████████████████████████████████████████████████████████████████████████████████████████████████████████████████████████████████████████████| 10/10 [00:44<00:00,  4.49s/it]\n"
     ]
    }
   ],
   "source": [
    "np.random.seed(0)\n",
    "for i in tqdm(range(10)):\n",
    "    depth = np.random.randint(2, 4)\n",
    "    list_dim = np.empty(depth + 1, dtype=int)\n",
    "    for j in range(depth + 1):\n",
    "        list_dim[j] = np.random.randint(2, 5)\n",
    "    list_dim = list(list_dim)\n",
    "    n_known_functions = known_conserved_functions_ReLU(list_dim)\n",
    "    D, vector_fields = vector_fields_ReLU_q_layers(list_dim)\n",
    "    assert solve(2, vector_fields) == n_known_functions\n"
   ]
  },
  {
   "attachments": {},
   "cell_type": "markdown",
   "id": "9f58997a",
   "metadata": {},
   "source": [
    "As expected, we can also find all known conserved functions by looking for polynomial conserved functions of degree 2, using our algorithm presented in Section 2.4 of our paper."
   ]
  },
  {
   "cell_type": "code",
   "execution_count": null,
   "id": "855e0183",
   "metadata": {},
   "outputs": [],
   "source": []
  }
 ],
 "metadata": {
  "kernelspec": {
   "display_name": "SageMath 9.8",
   "language": "sage",
   "name": "sagemath"
  },
  "language_info": {
   "codemirror_mode": {
    "name": "ipython",
    "version": 3
   },
   "file_extension": ".py",
   "mimetype": "text/x-python",
   "name": "python",
   "nbconvert_exporter": "python",
   "pygments_lexer": "ipython3",
   "version": "3.9.16"
  }
 },
 "nbformat": 4,
 "nbformat_minor": 5
}
