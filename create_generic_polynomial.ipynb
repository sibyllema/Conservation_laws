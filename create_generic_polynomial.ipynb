{
 "cells": [
  {
   "cell_type": "markdown",
   "id": "c81cf0a8",
   "metadata": {},
   "source": [
    "# This code constructs a (homogeneous or not) multivariate polynomial  with $D$ indeterminates $x_1, \\cdots, x_D$ and with generic coefficients $a_i$."
   ]
  },
  {
   "cell_type": "code",
   "execution_count": 1,
   "id": "81a1aa49",
   "metadata": {
    "vscode": {
     "languageId": "python"
    }
   },
   "outputs": [
    {
     "data": {
      "text/plain": [
       "'a0124'"
      ]
     },
     "execution_count": 1,
     "metadata": {},
     "output_type": "execute_result"
    }
   ],
   "source": [
    "def list_to_str(l):\n",
    "    \"\"\"\n",
    "    list_to_str(): converts an indexing list (ex: [0, 1, 2, 4]) \n",
    "    into its coefficient  𝑎0,1,2,4 seen as a string\n",
    "    \"\"\"\n",
    "    res = 'a'\n",
    "    for element in l:\n",
    "        res += str(element)\n",
    "    return res\n",
    "list_to_str([0, 1, 2, 4])"
   ]
  },
  {
   "cell_type": "code",
   "execution_count": 2,
   "id": "cca69e9c",
   "metadata": {
    "vscode": {
     "languageId": "python"
    }
   },
   "outputs": [
    {
     "data": {
      "text/plain": [
       "[[0, 3], [1, 2], [2, 1], [3, 0]]"
      ]
     },
     "execution_count": 2,
     "metadata": {},
     "output_type": "execute_result"
    }
   ],
   "source": [
    "def get_homogeneous_exponents(k, D):\n",
    "    \"\"\"\n",
    "    get_homogeneous_exponents(k, D): Given a degree  𝑘 and a number of indeterminates  𝐷,\n",
    "    returns the list of indexations of the coefficients for a *homogeneous* polynomial.\n",
    "    \"\"\"\n",
    "    if D == 0: # if there is 0 indeterminate, there is no coef!\n",
    "        return [] \n",
    "    if D == 1: # if there is 1 indeterminate, there is only one nonzero coefficient (the k-th one)\n",
    "        return [[k]]\n",
    "    if k == 0: # if the degree of the polynomial is zero there is only one coefficient a_{0, ..., 0}\n",
    "        return [[0]*D]\n",
    "    res = []\n",
    "    for i in range(k+1):\n",
    "        c = get_homogeneous_exponents(k-i, D-1)\n",
    "        resint = [[i]+coef for coef in c]\n",
    "        res += copy(resint)\n",
    "    return res\n",
    "\n",
    "get_homogeneous_exponents(3, 2)\n"
   ]
  },
  {
   "cell_type": "markdown",
   "id": "1a0463cd",
   "metadata": {},
   "source": [
    "\n",
    "We define a function ring(k, D, general= False) which returns:\n",
    " - the ring of polynomials with $D$ indeterminates with coefficients in the ring of polynomials whose indeterminates are the coefficients\n",
    " - the ring $\\mathbb{R}[a_1, \\cdots, a_m]$ with $m$ the number of coefficients. *The number of coefficients depends on which case we consider. In the default case (general = False) we look at the coefficients associated with a homogeneous polynomial of degree $k$. In the general case, we look at the coefficients associated with a polynomial of degree $k$.*\n",
    " - the coefficients ($a_i$).\n",
    " - the $D$ indeterminates ($x_i$)\n",
    " - the indexing lists associated with the coefficients\n",
    "\n"
   ]
  },
  {
   "cell_type": "code",
   "execution_count": 3,
   "id": "3c5b0539",
   "metadata": {
    "vscode": {
     "languageId": "python"
    }
   },
   "outputs": [
    {
     "data": {
      "text/plain": [
       "(Multivariate Polynomial Ring in x1, x2 over Multivariate Polynomial Ring in a02, a11, a20 over Real Field with 53 bits of precision,\n",
       " Multivariate Polynomial Ring in a02, a11, a20 over Real Field with 53 bits of precision,\n",
       " (a02, a11, a20),\n",
       " (x1, x2),\n",
       " [[0, 2], [1, 1], [2, 0]])"
      ]
     },
     "execution_count": 3,
     "metadata": {},
     "output_type": "execute_result"
    }
   ],
   "source": [
    "def ring(k, D, general=False):\n",
    "    list_var = [var('x'+str(i+1)) for i in range(D)] \n",
    "    \n",
    "    if general == False:\n",
    "        list_exponents = get_homogeneous_exponents(k, D)\n",
    "        list_coef = [var(list_to_str(c)) for c in list_exponents]\n",
    "        Ring = PolynomialRing(RR, list_coef)\n",
    "        R = PolynomialRing(Ring, list_var)\n",
    "        return R, Ring, Ring.gens(), R.gens(), list_exponents\n",
    "    \n",
    "    if general == True:\n",
    "        list_list_exponents = []\n",
    "        list_concatenee = []\n",
    "        for i in range(k+1):\n",
    "            list_list_exponents.append(get_homogeneous_exponents(i, D))\n",
    "            list_concatenee.extend(get_homogeneous_exponents(i, D))\n",
    "        list_coef = [var(list_to_str(c)) for c in list_concatenee]\n",
    "        Ring = PolynomialRing(RR, list_coef)\n",
    "        R = PolynomialRing(Ring, list_var)\n",
    "        return R, Ring, Ring.gens(), R.gens(), list_list_exponents\n",
    "\n",
    "#ring(2, 2, True)\n",
    "ring(2, 2)"
   ]
  },
  {
   "cell_type": "code",
   "execution_count": 4,
   "id": "e7a70f56",
   "metadata": {
    "vscode": {
     "languageId": "python"
    }
   },
   "outputs": [],
   "source": [
    "def create_generic_homogeneous_polynomial(k, D):\n",
    "    \"\"\"\n",
    "    create a homogeneous polynomial of degree  𝑘 with \n",
    "    𝐷 indeterminates and indeterminate coefs\n",
    "    \"\"\"\n",
    "    R, Ring, coef, list_variables, list_coefs = ring(k, D)\n",
    "    P = 0\n",
    "    for i in range(len(list_coefs)):\n",
    "        for j in range(len(list_coefs[i])):\n",
    "            P += coef[i]* R.monomial(*list_coefs[i])\n",
    "    return P \n",
    "\n",
    "def create_generic_polynomial(k, D):\n",
    "    \"\"\"\n",
    "    create a polynomial of degree  𝑘 with  𝐷 indeterminates and indeterminate coefs\n",
    "    \"\"\"\n",
    "    R, Ring, coef, list_variables, list_list_exponents = ring(k, D, general=True)\n",
    "    list_coef = []\n",
    "    P = 0\n",
    "    u = 0\n",
    "    for i in range(len(list_list_exponents)):\n",
    "        for j in range(len(list_list_exponents[i])):\n",
    "            P += coef[j + u]* R.monomial(*list_list_exponents[i][j])\n",
    "        u += len(list_list_exponents[i])\n",
    "    return P \n",
    "\n",
    "P = create_generic_polynomial(3, 2)"
   ]
  }
 ],
 "metadata": {
  "kernelspec": {
   "display_name": "SageMath 9.7",
   "language": "sage",
   "name": "SageMath-9.7"
  },
  "language_info": {
   "codemirror_mode": {
    "name": "ipython",
    "version": 3
   },
   "file_extension": ".py",
   "mimetype": "text/x-python",
   "name": "sage",
   "nbconvert_exporter": "python",
   "pygments_lexer": "ipython3",
   "version": "3.10.5"
  }
 },
 "nbformat": 4,
 "nbformat_minor": 5
}
