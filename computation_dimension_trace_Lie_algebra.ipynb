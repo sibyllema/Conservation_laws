{
 "cells": [
  {
   "attachments": {},
   "cell_type": "markdown",
   "id": "c95165d1",
   "metadata": {},
   "source": [
    "# Computation of the dimension of the trace of associated generated Lie algebra"
   ]
  },
  {
   "cell_type": "code",
   "execution_count": 15,
   "id": "26c38283",
   "metadata": {
    "vscode": {
     "languageId": "python"
    }
   },
   "outputs": [],
   "source": [
    "from sage.parallel.decorate import parallel"
   ]
  },
  {
   "cell_type": "code",
   "execution_count": 48,
   "id": "748c108c",
   "metadata": {
    "vscode": {
     "languageId": "python"
    }
   },
   "outputs": [],
   "source": [
    "from tqdm import tqdm"
   ]
  },
  {
   "cell_type": "code",
   "execution_count": 17,
   "id": "072cb9a5",
   "metadata": {
    "vscode": {
     "languageId": "python"
    }
   },
   "outputs": [],
   "source": [
    "@parallel\n",
    "def lie_bracket(Vec1, Vec2, D):\n",
    "    grad1 = [np.array(Vec1[k].gradient()) for k in range(D)]\n",
    "    grad2 = [np.array(Vec2[k].gradient()) for k in range(D)]\n",
    "\n",
    "    vector_vec1 = np.array(Vec1)\n",
    "    vector_vec2 = np.array(Vec2)\n",
    "    grad1 = np.array(grad1)\n",
    "    grad2 = np.array(grad2)\n",
    "    res = grad1 @ vector_vec2 - grad2 @ vector_vec1\n",
    "    return res\n",
    "\n",
    "\n",
    "@parallel\n",
    "def evaluate_polynomial(vec, dic):\n",
    "    # not used\n",
    "    return np.array([vec[k](**dic) for k in range(len(vec))]).reshape(1, -1)\n"
   ]
  },
  {
   "cell_type": "code",
   "execution_count": null,
   "id": "a5d06121",
   "metadata": {
    "vscode": {
     "languageId": "python"
    }
   },
   "outputs": [],
   "source": [
    "def compute_vector_field(Vector_field, index, dic):\n",
    "    res = Vector_field[index]\n",
    "    evaluation = res(**dic)\n",
    "    return res, evaluation  \n",
    "\n",
    "@parallel\n",
    "def compute_vector_field_list(Vector_field, dic, D):\n",
    "    res =  [compute_vector_field(Vector_field, j, dic) for j in range(D)]\n",
    "    return res"
   ]
  },
  {
   "cell_type": "code",
   "execution_count": 1,
   "id": "e2011009",
   "metadata": {
    "vscode": {
     "languageId": "python"
    }
   },
   "outputs": [],
   "source": [
    "import time\n",
    "import warnings\n",
    "\n",
    "def dim_trace_lie_algebra(Vector_fields, verbose=0, n_known_functions=0, fast=True):\n",
    "    if fast:\n",
    "        Vector_fields_original = Vector_fields.copy() # can be useful to recompute the result without fast=True\n",
    "        if not n_known_functions:\n",
    "            warnings.warn(\"Running with fast=True, this may find too many converved functions. If the result matches n_known_functions, you can trust it. Otherwise, try again with fast=False.\")\n",
    "\n",
    "    if verbose > 3:\n",
    "        print(\"Vector_fields\", Vector_fields)\n",
    "        print(\"Computing dim trace lie algebra\")\n",
    "    D, d = np.shape(Vector_fields)\n",
    "\n",
    "    # construction of a list that contains all vector fields\n",
    "    start_time = time.time()\n",
    "\n",
    "    value = np.random.rand(D)\n",
    "    dic = {}\n",
    "    for k in range(D):\n",
    "        dic[f\"x{k+1}\"] = value[k]\n",
    "\n",
    "    Vector_fields = Vector_fields.T\n",
    "    Vec = []\n",
    "    evaluation = []\n",
    "\n",
    "    if verbose:\n",
    "        print(f\"d: {d}\")\n",
    "    start_time = time.time()\n",
    "    vector_field_list = list(compute_vector_field_list([(Vector_fields[i], dic, D) for i in range(d)]))\n",
    "    if verbose:\n",
    "        print(f\"computed vector field list in {time.time() - start_time} seconds\")\n",
    "    for i in range(d):\n",
    "        vector_field = vector_field_list[i][1] #[1] because of parallel\n",
    "        vi, vi_valued = zip(*[elem for elem in vector_field])\n",
    "        vi = vector(vi)\n",
    "        Vec.append(vi) \n",
    "        evaluation.append(vi_valued)\n",
    "        \n",
    "    evaluation = np.array(evaluation)\n",
    "    \n",
    "    rank = np.linalg.matrix_rank(evaluation)\n",
    "    \n",
    "    if verbose:\n",
    "        print(\"dimension d: \", d)\n",
    "        print(\"dimension D :\", D)\n",
    "        print(\"parallel vector field computation done!\")\n",
    "        print(f\"time to define vector fields: {time.time() - start_time}\")\n",
    "     \n",
    "    # computation of the dimension of the trace of the Lie algebra\n",
    "        \n",
    "    # construction of V_{i+1} = V_i + [Vec, V_i]\n",
    "    # and evaluation of the dimension of its trace, we stop as soon as it stagnates\n",
    "    Vec = np.array(Vec) \n",
    "    Vec_pivot = Vec\n",
    "    new_Vec = Vec\n",
    "    u = rank - 1\n",
    "    step = 0\n",
    "    vec_eval = None\n",
    "    if verbose:\n",
    "        print(\"Vec\", Vec.shape)\n",
    "        print(\"rank\", rank)\n",
    "        print(\"D\", D)\n",
    "        print(\"n_known_functions\", n_known_functions)\n",
    "    vec_eval = evaluation\n",
    "    while rank > u and rank < D - n_known_functions:\n",
    "        if verbose:\n",
    "            print(\"step of construction\", step+1)\n",
    "            print(rank)\n",
    "            print(\"upper bound\", D - rank)\n",
    "        u = rank\n",
    "        start_time = time.time()\n",
    "        A = []\n",
    "        if verbose > 1:\n",
    "            if not fast:\n",
    "                print(f\"launching {len(new_Vec) * len(Vec_pivot)} lie brackets computations\")\n",
    "            else:\n",
    "                print(f\"launching {len(new_Vec) * min(5, len(Vec_pivot))} lie brackets computations\")\n",
    "        lie_time = time.time()\n",
    "        if not fast:\n",
    "            vec_res_list = list(lie_bracket([(new_Vec[i], Vec_pivot[j], D) for i in range(len(new_Vec)) for j in range(len(Vec_pivot))]))\n",
    "        else:\n",
    "            #empirically, this doesn't change the result but is much faster\n",
    "            # if the result is weird, try again without this\n",
    "            vec_res_list = list(lie_bracket([(new_Vec[i], Vec_pivot[j], D) for i in range(len(new_Vec)) for j in range(min(3, len(Vec_pivot)))]))\n",
    "        if verbose > 1:\n",
    "            print(f\"lie bracket time: {time.time() - lie_time}\")\n",
    "        time_eval = time.time()\n",
    "        for vec_res_ in vec_res_list:\n",
    "            vec_res = vec_res_[1]\n",
    "            vec_res_valued = np.array([vec_res[k](**dic) for k in range(len(vec_res))]).reshape(1, -1)\n",
    "            if vec_eval is None:\n",
    "                new_vec_eval = vec_res_valued\n",
    "                rank_vec_eval = 0\n",
    "            else:\n",
    "                new_vec_eval = np.concatenate((vec_eval, vec_res_valued), 0)\n",
    "                rank_vec_eval = np.linalg.matrix_rank(vec_eval)\n",
    "            new_rank = np.linalg.matrix_rank(new_vec_eval)\n",
    "            if new_rank > rank_vec_eval:\n",
    "                A.append(vec_res)\n",
    "                vec_eval = new_vec_eval\n",
    "                if not n_known_functions is None and new_rank >= D - n_known_functions:\n",
    "                    rank = new_rank\n",
    "                    if verbose:\n",
    "                        print(\"n_known_functions reached on step\", step)\n",
    "                    return rank\n",
    "            else:\n",
    "                pass\n",
    "        if verbose > 1:\n",
    "            print(f\"evaluation rank time: {time.time() - time_eval}\")\n",
    "                            \n",
    "        if len(A) == 0:\n",
    "            if verbose:\n",
    "                print(f\"no new vector field on step {step}\")\n",
    "            break\n",
    "\n",
    "        new_Vec = np.array(A)\n",
    "        rank = new_rank\n",
    "        \n",
    "        if verbose:\n",
    "            print(\"rank end\", rank)\n",
    "            print(\"rank before\", u)\n",
    "            print(\"new vec\", new_Vec.shape)\n",
    "        step +=1\n",
    "    if rank < D - n_known_functions and fast:\n",
    "        # try again without fast\n",
    "        return dim_trace_lie_algebra(Vector_fields_original, verbose=verbose, n_known_functions=n_known_functions, fast=False)\n",
    "    return rank"
   ]
  }
 ],
 "metadata": {
  "kernelspec": {
   "display_name": "SageMath 9.8",
   "language": "sage",
   "name": "sagemath"
  },
  "language_info": {
   "codemirror_mode": {
    "name": "ipython",
    "version": 3
   },
   "file_extension": ".py",
   "mimetype": "text/x-python",
   "name": "sage",
   "nbconvert_exporter": "python",
   "pygments_lexer": "ipython3",
   "version": "3.9.16"
  }
 },
 "nbformat": 4,
 "nbformat_minor": 5
}
